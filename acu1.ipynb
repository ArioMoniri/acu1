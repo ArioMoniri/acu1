{
 "cells": [
  {
   "cell_type": "code",
   "execution_count": 4,
   "metadata": {},
   "outputs": [],
   "source": [
    "import os \n",
    "os.getcwd()\n",
    "import numpy as np\n",
    "import pandas as pd\n",
    "pd.set_option('display.max_rows', 500)"
   ]
  },
  {
   "cell_type": "code",
   "execution_count": 6,
   "metadata": {},
   "outputs": [],
   "source": [
    "# Import Module\n",
    "import pdftables_api\n",
    "\n",
    "# API KEY VERIFICATION\n",
    "conversion = pdftables_api.Client('iqe7dhe1adbm')\n",
    "\n",
    "# PDf to CSV\n",
    "# (Hello.pdf, Hello)\n",
    "conversion.csv('MED212 online-program 23.02.23[2872].pdf', 'MED212 online-program 23.02.23[28723].csv')\n"
   ]
  },
  {
   "cell_type": "code",
   "execution_count": 7,
   "metadata": {},
   "outputs": [],
   "source": [
    "\n",
    "data = pd.read_csv('MED212 online-program 23.02.23[28723].csv')\n"
   ]
  },
  {
   "cell_type": "code",
   "execution_count": 8,
   "metadata": {},
   "outputs": [
    {
     "name": "stderr",
     "output_type": "stream",
     "text": [
      "C:\\Users\\ASUS\\AppData\\Local\\Temp\\ipykernel_26224\\4231265879.py:1: FutureWarning: The frame.append method is deprecated and will be removed from pandas in a future version. Use pandas.concat instead.\n",
      "  data1 = data.columns.to_frame().T.append(data, ignore_index=True)\n"
     ]
    }
   ],
   "source": [
    "data1 = data.columns.to_frame().T.append(data, ignore_index=True)\n",
    "data1.columns = range(len(data1.columns))\n"
   ]
  },
  {
   "cell_type": "code",
   "execution_count": 9,
   "metadata": {},
   "outputs": [],
   "source": [
    "coll = int(len(data1.columns))\n",
    "coll2 = int(len(data1.columns)) - 1\n",
    "while (coll2 >= 3):\n",
    " if (coll > 3):\n",
    "         data1.iloc[:,2].combine_first(data1.iloc[:,coll2])\n",
    " coll2 = coll2 - 1\n",
    " \n"
   ]
  },
  {
   "cell_type": "code",
   "execution_count": 10,
   "metadata": {},
   "outputs": [],
   "source": [
    "#data1.iloc[:,2] = datax\n"
   ]
  },
  {
   "cell_type": "code",
   "execution_count": 11,
   "metadata": {},
   "outputs": [],
   "source": [
    "#data1 = data1.drop(\n",
    "    #labels = [3],\n",
    "    #axis = 1\n",
    "#)"
   ]
  },
  {
   "cell_type": "code",
   "execution_count": 12,
   "metadata": {},
   "outputs": [],
   "source": [
    "data1.columns = ['TT','Subject','Instructor']\n",
    "#data1['Date'] = data1.loc[:, \"TT\"]\n"
   ]
  },
  {
   "cell_type": "code",
   "execution_count": 13,
   "metadata": {},
   "outputs": [],
   "source": [
    "#data1.dropna(\n",
    "    #axis=0,\n",
    "    #how = 'all',\n",
    "    #subset=None,\n",
    "    #inplace=True\n",
    "#)"
   ]
  },
  {
   "cell_type": "code",
   "execution_count": 14,
   "metadata": {},
   "outputs": [],
   "source": [
    "#data1.fillna(\"\",inplace=True)"
   ]
  },
  {
   "cell_type": "code",
   "execution_count": 15,
   "metadata": {},
   "outputs": [],
   "source": [
    "#data1.Date = ''\n",
    "data1['Date'] = ''"
   ]
  },
  {
   "cell_type": "code",
   "execution_count": 16,
   "metadata": {},
   "outputs": [],
   "source": [
    "data1['Date'] = data1.apply(lambda x: ','.join([str(cell) for cell in x if 'DAY' in str(cell)]), axis=1)\n",
    "\n",
    "for column in data1.columns:\n",
    "    if column != 'Date':\n",
    "        data1[column] = data1[column].apply(lambda x: '' if str(x) in data1['Date'].values else x)\n"
   ]
  },
  {
   "cell_type": "code",
   "execution_count": 17,
   "metadata": {},
   "outputs": [],
   "source": [
    "data1.dropna(\n",
    "    axis=0,\n",
    "    how = 'all',\n",
    "    subset=None,\n",
    "    inplace=True\n",
    ")"
   ]
  },
  {
   "cell_type": "code",
   "execution_count": 18,
   "metadata": {},
   "outputs": [],
   "source": [
    "x=1\n",
    "y=11\n",
    "z=0\n",
    "i=1\n",
    "xx = int(len(data1)/12) + 1\n",
    "while i in range(xx):\n",
    "   \n",
    "    data1.loc[x:y,'Date']= data1.iloc[z,3]\n",
    "    x=x+12\n",
    "    y=y+12\n",
    "    z=z+12\n",
    "    i=i+1"
   ]
  },
  {
   "cell_type": "code",
   "execution_count": 19,
   "metadata": {},
   "outputs": [],
   "source": [
    "#data1.iloc[0,1]= ''\n",
    "#data1.iloc[0,0]= ''"
   ]
  },
  {
   "cell_type": "code",
   "execution_count": 20,
   "metadata": {},
   "outputs": [],
   "source": [
    "#data2 = data1.replace(np. NaN,'',regex=True)\n",
    "data1 = data1.applymap(lambda x: '' if pd.isna(x) else '' if 'Unname' in str(x) else x)"
   ]
  },
  {
   "cell_type": "code",
   "execution_count": 21,
   "metadata": {},
   "outputs": [],
   "source": [
    "data1[['Date', 'Day']] = data1.Date.str.split(\" \", expand = True)"
   ]
  },
  {
   "cell_type": "code",
   "execution_count": 22,
   "metadata": {},
   "outputs": [],
   "source": [
    "data1.columns = ['TT','Subject','Instructor','Date','Day']"
   ]
  },
  {
   "cell_type": "code",
   "execution_count": 23,
   "metadata": {},
   "outputs": [],
   "source": [
    "data1[['Sart Time', 'End Time']] = data1.TT.str.split(\" - \", expand = True)"
   ]
  },
  {
   "cell_type": "code",
   "execution_count": 24,
   "metadata": {},
   "outputs": [],
   "source": [
    "\n",
    "z=0\n",
    "i=1\n",
    "while i in range(xx):\n",
    "   \n",
    "    data1.loc[z,\"End Time\"]= ''\n",
    "    z=z+12\n",
    "    i=i+1\n",
    "\n",
    "\n",
    "z=0\n",
    "i=1\n",
    "while i in range(xx):\n",
    "   \n",
    "    data1.loc[z,\"Date\"]= ''\n",
    "    z=z+12\n",
    "    i=i+1\n",
    "\n",
    "    \n",
    "z=0\n",
    "i=1\n",
    "while i in range(xx):\n",
    "   \n",
    "    data1.loc[z,\"Day\"]= ''\n",
    "    z=z+12\n",
    "    i=i+1\n",
    "\n",
    "z=0\n",
    "i=1\n",
    "while i in range(xx):\n",
    "   \n",
    "    data1.loc[z,\"Subject\"]= ''\n",
    "    z=z+12\n",
    "    i=i+1\n"
   ]
  },
  {
   "cell_type": "code",
   "execution_count": 25,
   "metadata": {},
   "outputs": [],
   "source": [
    "#data2.fillna(\"\",inplace=True)"
   ]
  },
  {
   "cell_type": "code",
   "execution_count": 26,
   "metadata": {},
   "outputs": [],
   "source": [
    "data1.drop('TT', inplace=True, axis=1)"
   ]
  },
  {
   "cell_type": "code",
   "execution_count": 27,
   "metadata": {},
   "outputs": [],
   "source": [
    "data1.columns = ['Subject','Description','Start Date','Day','Start Time','End Time']"
   ]
  },
  {
   "cell_type": "code",
   "execution_count": 28,
   "metadata": {},
   "outputs": [],
   "source": [
    "data1['End Date'] = data1.loc[:,'Start Date'] "
   ]
  },
  {
   "cell_type": "code",
   "execution_count": 29,
   "metadata": {},
   "outputs": [],
   "source": [
    "data4 = data1.replace(regex=['Study Time'],value= '')"
   ]
  },
  {
   "cell_type": "code",
   "execution_count": 30,
   "metadata": {},
   "outputs": [],
   "source": [
    "data4 = data4.replace(regex=['Lunch Time'],value= '')"
   ]
  },
  {
   "cell_type": "code",
   "execution_count": 31,
   "metadata": {},
   "outputs": [],
   "source": [
    "#data4.replace('', pd.np.na, inplace=True)"
   ]
  },
  {
   "cell_type": "code",
   "execution_count": 32,
   "metadata": {},
   "outputs": [],
   "source": [
    "word_part = 'EXAMINATION'\n",
    "for index, row in data4.iterrows():\n",
    "\n",
    "    # Check if the word part is present in any of the cells in the row\n",
    "    if any(word_part in str(cell) for cell in row.values):\n",
    "\n",
    "        # If the word part is found, fill all empty cells with the contents of the cell where the word part was found\n",
    "        for i in range(len(row)):\n",
    "            if pd.isnull(row[i]):\n",
    "                row[i] = row[row.astype(str).str.contains(word_part)].iloc[0]\n"
   ]
  },
  {
   "cell_type": "code",
   "execution_count": 33,
   "metadata": {},
   "outputs": [],
   "source": [
    "word_part = 'Medicine'\n",
    "for index, row in data4.iterrows():\n",
    "\n",
    "    # Check if the word part is present in any of the cells in the row\n",
    "    if any(word_part in str(cell) for cell in row.values):\n",
    "\n",
    "        # If the word part is found, fill all empty cells with the contents of the cell where the word part was found\n",
    "        for i in range(len(row)):\n",
    "            if pd.isnull(row[i]):\n",
    "                row[i] = row[row.astype(str).str.contains(word_part)].iloc[0]\n"
   ]
  },
  {
   "cell_type": "code",
   "execution_count": 34,
   "metadata": {},
   "outputs": [],
   "source": [
    "word_part = 'Exam'\n",
    "for index, row in data4.iterrows():\n",
    "\n",
    "    # Check if the word part is present in any of the cells in the row\n",
    "    if any(word_part in str(cell) for cell in row.values):\n",
    "\n",
    "        # If the word part is found, fill all empty cells with the contents of the cell where the word part was found\n",
    "        for i in range(len(row)):\n",
    "            if pd.isnull(row[i]):\n",
    "                row[i] = row[row.astype(str).str.contains(word_part)].iloc[0]\n"
   ]
  },
  {
   "cell_type": "code",
   "execution_count": 35,
   "metadata": {},
   "outputs": [],
   "source": [
    "word_part = 'exam'\n",
    "for index, row in data4.iterrows():\n",
    "\n",
    "    # Check if the word part is present in any of the cells in the row\n",
    "    if any(word_part in str(cell) for cell in row.values):\n",
    "\n",
    "        # If the word part is found, fill all empty cells with the contents of the cell where the word part was found\n",
    "        for i in range(len(row)):\n",
    "            if pd.isnull(row[i]):\n",
    "                row[i] = row[row.astype(str).str.contains(word_part)].iloc[0]\n"
   ]
  },
  {
   "cell_type": "code",
   "execution_count": 36,
   "metadata": {},
   "outputs": [],
   "source": [
    "data4.dropna(\n",
    "    axis=0,\n",
    "    how = 'any',\n",
    "    subset=None,\n",
    "    inplace=True\n",
    ")"
   ]
  },
  {
   "cell_type": "code",
   "execution_count": 37,
   "metadata": {},
   "outputs": [
    {
     "name": "stdout",
     "output_type": "stream",
     "text": [
      "The word part 'THEORETICAL' does not exist in the DataFrame\n"
     ]
    }
   ],
   "source": [
    "word_part = 'THEORETICAL'\n",
    "if data4.apply(lambda x: x.astype(str).str.contains(word_part).any()).any():\n",
    "    print(f\"The word part '{word_part}' exists in the DataFrame\")\n",
    "else:\n",
    "    print(f\"The word part '{word_part}' does not exist in the DataFrame\")\n",
    "    # pause the code using input() function\n",
    "    input(\"Press Enter to continue...\")"
   ]
  },
  {
   "cell_type": "code",
   "execution_count": 38,
   "metadata": {},
   "outputs": [],
   "source": [
    "data4.Description = data4.Description + '    https://zoom.us/j/95698119943'"
   ]
  },
  {
   "cell_type": "code",
   "execution_count": 39,
   "metadata": {},
   "outputs": [],
   "source": [
    "data4 = data4.iloc[1:, :]"
   ]
  },
  {
   "cell_type": "code",
   "execution_count": 40,
   "metadata": {},
   "outputs": [],
   "source": [
    "empty_rows = data4.index[data4['Start Date'] == ''].tolist()\n",
    "\n",
    "# drop rows where cell 'B' is empty\n",
    "data4 = data4.drop(index=empty_rows)\n",
    "\n",
    "empty_rows = data4.index[data4['Subject'] == ''].tolist()\n",
    "\n",
    "# drop rows where cell 'B' is empty\n",
    "data4 = data4.drop(index=empty_rows)\n"
   ]
  },
  {
   "cell_type": "code",
   "execution_count": 41,
   "metadata": {},
   "outputs": [],
   "source": [
    "#data4 = data4.replace(regex=['02.03.23'],value= '02.03.2023')"
   ]
  },
  {
   "cell_type": "code",
   "execution_count": 42,
   "metadata": {},
   "outputs": [],
   "source": [
    "data4['Start Date'] = pd.to_datetime(data4['Start Date'], format='%d.%m.%Y')\n",
    "data4['Start Date'] = data4['Start Date'].dt.strftime('%m/%d/%Y')"
   ]
  },
  {
   "cell_type": "code",
   "execution_count": 43,
   "metadata": {},
   "outputs": [],
   "source": [
    "data4['End Date'] = pd.to_datetime(data4['End Date'], format='%d.%m.%Y')\n",
    "data4['End Date'] = data4['End Date'].dt.strftime('%m/%d/%Y')"
   ]
  },
  {
   "cell_type": "code",
   "execution_count": 44,
   "metadata": {},
   "outputs": [],
   "source": [
    "#data4['End Date'] = pd.to_datetime(data4['End Date'], format='%d.%m.%Y')\n",
    "#data4['End Date'] = data4['End Date'].dt.strftime('%Y-%m-%d')"
   ]
  },
  {
   "cell_type": "code",
   "execution_count": 45,
   "metadata": {},
   "outputs": [],
   "source": [
    "#data4['Start Date'] = pd.to_datetime(data4['Start Date'], format='%d.%m.%Y')\n",
    "#data4['Start Date'] = data4['Start Date'].dt.strftime('%Y-%m-%d')"
   ]
  },
  {
   "cell_type": "code",
   "execution_count": 46,
   "metadata": {},
   "outputs": [],
   "source": [
    "#data4['End Time'] = pd.to_datetime(data4['End Time'], format='%H:%M')\n",
    "#data4['End Time'] = data4['End Time'].dt.strftime('%HH.%MM')"
   ]
  },
  {
   "cell_type": "code",
   "execution_count": 47,
   "metadata": {},
   "outputs": [],
   "source": [
    "#data4['Start Time'] = pd.to_datetime(data4['Start Time'], format='%H:%M')\n",
    "#data4['Start Time'] = data4['Start Time'].dt.strftime('%HH.%MM')"
   ]
  },
  {
   "cell_type": "code",
   "execution_count": 49,
   "metadata": {},
   "outputs": [],
   "source": [
    "# find the indices of rows where 'World' is in the 'Subject' column\n",
    "indices = data4.index[data4['Subject'].str.contains('English')].tolist()\n",
    "\n",
    "# empty the cells in the 'Description' column for those rows\n",
    "data4.loc[indices, 'Description'] = ''\n",
    "\n",
    "# add the string 'Hello' to the previously emptied cells in the 'Description' column for those rows\n",
    "data4.loc[indices, 'Description'] = 'https://zoom.us/j/97669955181'"
   ]
  },
  {
   "cell_type": "code",
   "execution_count": 50,
   "metadata": {},
   "outputs": [],
   "source": [
    "indices = data4.index[data4['Subject'].str.contains('Study')].tolist()\n",
    "\n",
    "# empty the cells in the 'Description' column for those rows\n",
    "data4.loc[indices, 'Subject'] = ''\n",
    "\n",
    "empty_rows = data4.index[data4['Subject'] == ''].tolist()\n",
    "\n",
    "# drop rows where cell 'B' is empty\n",
    "data4 = data4.drop(index=empty_rows)\n"
   ]
  },
  {
   "cell_type": "code",
   "execution_count": 54,
   "metadata": {},
   "outputs": [],
   "source": [
    "data4.to_csv(r'C:\\Users\\ASUS\\OneDrive - Acıbadem Universitesi Kerem Aydınlar Kampüsü\\Masaüstü\\zahed223.csv', index=False, header=True)"
   ]
  },
  {
   "cell_type": "code",
   "execution_count": 52,
   "metadata": {},
   "outputs": [],
   "source": [
    "#data4.to_csv(r'c:\\\\Users\\\\ASUS\\\\AppData\\\\Local\\\\Programs\\\\Microsoft VS Code\\zahed1.csv', index=False, header=True)"
   ]
  },
  {
   "cell_type": "code",
   "execution_count": 55,
   "metadata": {},
   "outputs": [],
   "source": [
    "from datetime import datetime, timedelta\n",
    "import pandas as pd\n",
    "import icalendar\n",
    "\n",
    "# read the input CSV file into a Pandas DataFrame\n",
    "df = pd.read_csv('zahed223.csv', delimiter=',', dtype=str)\n",
    "\n",
    "# create a new calendar\n",
    "calendar = icalendar.Calendar()\n",
    "calendar.add('prodid', '-//My Reminder Calendar//example.com//')\n",
    "calendar.add('version', '2.0')\n",
    "\n",
    "# iterate over the rows of the DataFrame and add events to the calendar\n",
    "for index, row in df.iterrows():\n",
    "    # create a new event\n",
    "    event = icalendar.Event()\n",
    "\n",
    "    # set the event properties from the DataFrame columns\n",
    "    event.add('summary', row['Subject'])\n",
    "    event.add('description', row['Description'])\n",
    "\n",
    "    # parse the start and end date/time strings into datetime objects\n",
    "    start_date_str = row['Start Date']\n",
    "    start_time_str = row['Start Time']\n",
    "    end_date_str = row['End Date']\n",
    "    end_time_str = row['End Time']\n",
    "    start_dt = datetime.strptime(start_date_str + start_time_str, '%m/%d/%Y%H:%M')\n",
    "    end_dt = datetime.strptime(end_date_str + end_time_str, '%m/%d/%Y%H:%M')\n",
    "\n",
    "    # set the event start and end times\n",
    "    event.add('dtstart', start_dt)\n",
    "    event.add('dtend', end_dt)\n",
    "\n",
    "    # create a new alarm\n",
    "    alarm = icalendar.Alarm()\n",
    "    alarm.add('action', 'DISPLAY')\n",
    "    alarm.add('description', 'Reminder: ' + row['Subject'])\n",
    "    alarm.add('trigger', timedelta(minutes=-15))\n",
    "\n",
    "    # add the alarm to the event\n",
    "    event.add_component(alarm)\n",
    "\n",
    "    # add the event to the calendar\n",
    "    calendar.add_component(event)\n",
    "\n",
    "# write the calendar to a file\n",
    "with open('mycalendar56.ics', 'wb') as f:\n",
    "    f.write(calendar.to_ical())\n"
   ]
  }
 ],
 "metadata": {
  "kernelspec": {
   "display_name": "Python 3",
   "language": "python",
   "name": "python3"
  },
  "language_info": {
   "codemirror_mode": {
    "name": "ipython",
    "version": 3
   },
   "file_extension": ".py",
   "mimetype": "text/x-python",
   "name": "python",
   "nbconvert_exporter": "python",
   "pygments_lexer": "ipython3",
   "version": "3.11.0a6"
  },
  "orig_nbformat": 4,
  "vscode": {
   "interpreter": {
    "hash": "c261aea317cc0286b3b3261fbba9abdec21eaa57589985bb7a274bf54d6cc0a7"
   }
  }
 },
 "nbformat": 4,
 "nbformat_minor": 2
}
